{
  "nbformat": 4,
  "nbformat_minor": 0,
  "metadata": {
    "colab": {
      "name": "kruzhok.ipynb",
      "provenance": [],
      "collapsed_sections": []
    },
    "kernelspec": {
      "name": "python3",
      "display_name": "Python 3"
    },
    "accelerator": "GPU"
  },
  "cells": [
    {
      "cell_type": "markdown",
      "metadata": {
        "id": "pXNpQoGlTDIv"
      },
      "source": [
        "# Install and import of libraries\n",
        "We use `detecto` wrapper on `pyTorch`."
      ]
    },
    {
      "cell_type": "code",
      "metadata": {
        "id": "TJ-4PJxej6x1"
      },
      "source": [
        "!pip install torch torchvision\n",
        "!pip install detecto"
      ],
      "execution_count": null,
      "outputs": []
    },
    {
      "cell_type": "code",
      "metadata": {
        "id": "IwebAEf8kQMW"
      },
      "source": [
        "import os\n",
        "from matplotlib import pyplot as plt\n",
        "from detecto import core, utils, visualize"
      ],
      "execution_count": null,
      "outputs": []
    },
    {
      "cell_type": "markdown",
      "metadata": {
        "id": "IdlLUK4fTYNY"
      },
      "source": [
        "# Mount directories\n",
        "Only for Google Colab."
      ]
    },
    {
      "cell_type": "code",
      "metadata": {
        "id": "CXYn3CWEmlu7"
      },
      "source": [
        "# ONLY FOR GOOGLE COLAB\n",
        "from google.colab import drive\n",
        "drive.mount('/content/drive')\n",
        "WORKING_DIRECTORY = '/content/drive/My Drive/kruzhok/data'\n",
        "\n",
        "os.chdir(WORKING_DIRECTORY)"
      ],
      "execution_count": null,
      "outputs": []
    },
    {
      "cell_type": "markdown",
      "metadata": {
        "id": "F8QQntGCT0vd"
      },
      "source": [
        "# Import images and annotations"
      ]
    },
    {
      "cell_type": "code",
      "metadata": {
        "id": "kffRNkUWl8sw"
      },
      "source": [
        "dataset = core.Dataset('annotations', 'images')\n",
        "loader = core.DataLoader(dataset, batch_size=2, shuffle=True)\n",
        "\n",
        "val = core.Dataset('valid', 'images')\n",
        "\n",
        "model = core.Model(['kruzhok'])"
      ],
      "execution_count": null,
      "outputs": []
    },
    {
      "cell_type": "markdown",
      "metadata": {
        "id": "s-mDF4dRUFSb"
      },
      "source": [
        "# Train and save the R-CNN model"
      ]
    },
    {
      "cell_type": "code",
      "metadata": {
        "id": "WV8MTSOImIYf"
      },
      "source": [
        "loss = model.fit(loader, val, verbose=True)"
      ],
      "execution_count": null,
      "outputs": []
    },
    {
      "cell_type": "code",
      "metadata": {
        "id": "ceqf7isQU_YE"
      },
      "source": [
        "plt.plot(loss)"
      ],
      "execution_count": null,
      "outputs": []
    },
    {
      "cell_type": "code",
      "metadata": {
        "id": "-qnwuWBjmKUb"
      },
      "source": [
        "model.save('model_weights_val.pth')"
      ],
      "execution_count": null,
      "outputs": []
    },
    {
      "cell_type": "markdown",
      "metadata": {
        "id": "pHsUL_qFUUZF"
      },
      "source": [
        "# Check it on some images"
      ]
    },
    {
      "cell_type": "code",
      "metadata": {
        "id": "1066YhgeblcK"
      },
      "source": [
        "for e in os.listdir('test'):\n",
        "    image = utils.read_image('test/' + e)\n",
        "    labels, boxes, scores = model.predict_top(image)\n",
        "    visualize.show_labeled_image(image, boxes, labels)"
      ],
      "execution_count": null,
      "outputs": []
    }
  ]
}